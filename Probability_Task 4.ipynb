{
 "cells": [
  {
   "cell_type": "markdown",
   "id": "42c75276",
   "metadata": {},
   "source": [
    "Q1. In a school of 200 students, 120 like math and 80 like science. 50 like both math and science.\n",
    "What is the probability that a randomly selected student likes both subjects?\n"
   ]
  },
  {
   "cell_type": "code",
   "execution_count": 1,
   "id": "2b6773b8",
   "metadata": {},
   "outputs": [
    {
     "name": "stdout",
     "output_type": "stream",
     "text": [
      "Probability that a student likes both Math and Science: 0.25\n"
     ]
    }
   ],
   "source": [
    "#Given Values\n",
    "total_students= 200\n",
    "both_math_science=50\n",
    "\n",
    "#Calculate Probability\n",
    "probility_both=both_math_science/total_students\n",
    "\n",
    "#Print the result\n",
    "print(\"Probability that a student likes both Math and Science:\",probility_both)"
   ]
  },
  {
   "cell_type": "markdown",
   "id": "32cd2f41",
   "metadata": {},
   "source": [
    "Q2. A factory produces 60% of items from Machine A and 40% from Machine B. Machine A has a 5% defect rate, and Machine B has a 10% defect rate.\n",
    "If an item is found defective, what is the probability it came from Machine B?\n"
   ]
  },
  {
   "cell_type": "code",
   "execution_count": null,
   "id": "f2c9aaca",
   "metadata": {},
   "outputs": [
    {
     "name": "stdout",
     "output_type": "stream",
     "text": [
      "0.07\n",
      "Probability that a defective item came from Machine B 0.5714286\n"
     ]
    }
   ],
   "source": [
    "#Given Probabilities\n",
    "P_A= 0.6\n",
    "P_B=0.4\n",
    "P_D_given_A=0.05\n",
    "P_D_given_B=0.1\n",
    "\n",
    "#Total Probability of a defective item\n",
    "P_D=P_A*P_D_given_A+P_B*P_D_given_B\n",
    "\n",
    "print(P_D)\n",
    "\n",
    "#Bayes Theorem to find P(B|D)\n",
    "P_B_given_D=(P_B*P_D_given_B)/P_D\n",
    "\n",
    "#PRINT THE RESULT\n",
    "print(\"Probability that a defective item came from Machine B\",round(P_B_given_D,4))\n"
   ]
  },
  {
   "cell_type": "markdown",
   "id": "b6b6daa4",
   "metadata": {},
   "source": [
    "Q3. A basket contains 6 apples and 4 oranges. One fruit is picked at random.\n",
    "What is the probability it is an orange?\n"
   ]
  },
  {
   "cell_type": "code",
   "execution_count": 5,
   "id": "19581f6c",
   "metadata": {},
   "outputs": [
    {
     "name": "stdout",
     "output_type": "stream",
     "text": [
      "Probability of picking an orange: 0.4\n"
     ]
    }
   ],
   "source": [
    "total_fruits=6+4\n",
    "oranges=4\n",
    "probability_orange=oranges/total_fruits\n",
    "print(\"Probability of picking an orange:\", probability_orange)"
   ]
  },
  {
   "cell_type": "markdown",
   "id": "5f56458c",
   "metadata": {},
   "source": [
    "Q4. A test is 90% accurate. 1 in 100 people has a certain condition.\n",
    "A person tests positive. What is the probability they actually have the condition?\n"
   ]
  },
  {
   "cell_type": "code",
   "execution_count": 7,
   "id": "bdd6e220",
   "metadata": {},
   "outputs": [
    {
     "name": "stdout",
     "output_type": "stream",
     "text": [
      "0.10800000000000001\n",
      "Probability that a person actually has the condition given a positive test: 0.0833\n"
     ]
    }
   ],
   "source": [
    "#Given Probilities\n",
    "P_T_given_C= 0.9  #Test Accuracy\n",
    "P_C= 0.01    #Prevalnce of the condition\n",
    "P_T_given_not_C=0.1  #False Positive rate\n",
    "P_not_C=0.99     #Probability of not having the condition\n",
    "\n",
    "#Total Probability of testing positive (P(T+))\n",
    "P_T=(P_T_given_C*P_C)+(P_T_given_not_C*P_not_C)\n",
    "\n",
    "print(P_T)\n",
    "\n",
    "#Bayes Therorem to find P(C|T+)\n",
    "P_C_given_T=(P_T_given_C*P_C)/P_T\n",
    "\n",
    "print(\"Probability that a person actually has the condition given a positive test:\", round(P_C_given_T,4))"
   ]
  },
  {
   "cell_type": "markdown",
   "id": "a25e8fa9",
   "metadata": {},
   "source": [
    "Q5. In a company of 300 employees, 180 can code in Python, 100 can code in Java, and 50 can code in both languages.\n",
    "What is the probability that an employee can code in Python or Java?\n"
   ]
  },
  {
   "cell_type": "code",
   "execution_count": null,
   "id": "92326746",
   "metadata": {},
   "outputs": [],
   "source": [
    "#Given Values\n",
    "total_employess=300\n",
    "python=180\n",
    "java=100\n",
    "both=50\n",
    "\n",
    "\n",
    "#Calculate the probability Using Inclusion Exclusion Principle\n",
    "P_python=python/total_employess\n",
    "P_java=java/total_employess\n",
    "P_python_and_java=both/total_employess\n",
    "\n",
    "\n",
    "#Final Probaility of python or java\n",
    "P_python_or_java=P_python+P_java-P_python_and_java\n",
    "\n",
    "print(\"Probability that an employee can code in Python or Java:\", round(P_python_or_java,4))"
   ]
  },
  {
   "cell_type": "markdown",
   "id": "092104ab",
   "metadata": {},
   "source": [
    "Q6. The probability that it rains today is 0.6. The probability that you carry an umbrella given it rains is 0.9.\n",
    "What is the probability that it rains and you carry an umbrella?\n"
   ]
  },
  {
   "cell_type": "code",
   "execution_count": 8,
   "id": "2ffb447c",
   "metadata": {},
   "outputs": [
    {
     "name": "stdout",
     "output_type": "stream",
     "text": [
      "Probability That it rains and you carry an umbrella: 0.54\n"
     ]
    }
   ],
   "source": [
    "#Given Probabilities\n",
    "P_rain=0.6\n",
    "P_umbrella_given_rain=0.9\n",
    "\n",
    "#Calculate the probability of rain and umbrella\n",
    "P_rain_and_umbrella=P_rain*P_umbrella_given_rain\n",
    "\n",
    "print(\"Probability That it rains and you carry an umbrella:\", round(P_rain_and_umbrella,4))"
   ]
  },
  {
   "cell_type": "markdown",
   "id": "f050903e",
   "metadata": {},
   "source": [
    "Q7. In a class, 70% of students passed the exam. Of those who passed, 80% studied the night before.\n",
    "What is the probability a student studied the night before given they passed the exam?\n"
   ]
  },
  {
   "cell_type": "code",
   "execution_count": 9,
   "id": "40cede29",
   "metadata": {},
   "outputs": [
    {
     "name": "stdout",
     "output_type": "stream",
     "text": [
      "Probability that a student studied the night before, given they passed the exam: 0.8\n"
     ]
    }
   ],
   "source": [
    "#Given Values \n",
    "P_passed=0.7 #Probability that a student passed\n",
    "P_studied_given_passed=0.8    #Probability that a student studied given they passed\n",
    "\n",
    "\n",
    "#Probability that a student studied given they passed(directly given)\n",
    "\n",
    "P_studied_given_passed_result=P_studied_given_passed\n",
    "\n",
    "\n",
    "#Print the result\n",
    "print(\"Probability that a student studied the night before, given they passed the exam:\", round(P_studied_given_passed_result,2))"
   ]
  },
  {
   "cell_type": "markdown",
   "id": "f2720ca7",
   "metadata": {},
   "source": [
    "Q8.You roll two fair dice. What is the probability that the sum is 7?"
   ]
  },
  {
   "cell_type": "code",
   "execution_count": 10,
   "id": "34d80cde",
   "metadata": {},
   "outputs": [
    {
     "name": "stdout",
     "output_type": "stream",
     "text": [
      "Probability that the sum of two dice is 7: 0.1667\n"
     ]
    }
   ],
   "source": [
    "#Total possible outcomes(6 faces on each die, 2 die)\n",
    "total_outcomes=6*6\n",
    "\n",
    "#Favorable outcomes for sum=7\n",
    "favourable_outcomes=6    #(1,6),(2,5),(3,4),(4,3),(5,2),(6,1)\n",
    "\n",
    "#Calculate Probability\n",
    "probability_sum_7=favourable_outcomes/total_outcomes\n",
    "print(\"Probability that the sum of two dice is 7:\", round(probability_sum_7,4))"
   ]
  },
  {
   "cell_type": "markdown",
   "id": "459f3114",
   "metadata": {},
   "source": [
    "Q9. A bag contains 3 red, 2 green, and 5 blue balls. One ball is drawn randomly.\n",
    "What is the probability that it is either red or green?\n"
   ]
  },
  {
   "cell_type": "code",
   "execution_count": 11,
   "id": "4f7c7809",
   "metadata": {},
   "outputs": [
    {
     "name": "stdout",
     "output_type": "stream",
     "text": [
      "Probability that the ball is either red or green: 0.5\n"
     ]
    }
   ],
   "source": [
    "#Given Values\n",
    "red_balls=3\n",
    "green_balls=2\n",
    "blue_balls=5\n",
    "total_balls=red_balls+green_balls+blue_balls\n",
    "\n",
    "#Favourable outcomes for red and green balls\n",
    "favourable_outcomes=green_balls+red_balls\n",
    "\n",
    "#Calculate Probability \n",
    "probability_red_or_green=favourable_outcomes/total_balls\n",
    "\n",
    "\n",
    "print(\"Probability that the ball is either red or green:\", round(probability_red_or_green,2))"
   ]
  },
  {
   "cell_type": "markdown",
   "id": "9dfe40a2",
   "metadata": {},
   "source": [
    "Q10. In a city, 30% of the population uses public transport. Of these, 60% are students.\n",
    "What is the probability that a randomly selected person is a student who uses public transport?\n"
   ]
  },
  {
   "cell_type": "code",
   "execution_count": 13,
   "id": "53e097c2",
   "metadata": {},
   "outputs": [
    {
     "name": "stdout",
     "output_type": "stream",
     "text": [
      "Probability that a randomly selected person is a student who uses public transport: 0.18\n"
     ]
    }
   ],
   "source": [
    "#Given Probabilities\n",
    "P_uses_public_transport=0.30\n",
    "P_student_giiven_transport=0.60\n",
    "\n",
    "#Calculate the probability of a student who uses public transport\n",
    "P_student_and_transport=P_uses_public_transport*P_student_giiven_transport\n",
    "print(\"Probability that a randomly selected person is a student who uses public transport:\",round(P_student_and_transport,2))"
   ]
  },
  {
   "cell_type": "markdown",
   "id": "40708070",
   "metadata": {},
   "source": [
    "Q11. In a survey, 40% of participants like tea, 50% like coffee, and 20% like both.\n",
    "What is the probability a person likes at least one of the two drinks?\n"
   ]
  },
  {
   "cell_type": "code",
   "execution_count": 14,
   "id": "bc2d0da2",
   "metadata": {},
   "outputs": [
    {
     "name": "stdout",
     "output_type": "stream",
     "text": [
      "Probility that a person likes at least one of tea or coeffe: 0.7\n"
     ]
    }
   ],
   "source": [
    "#Given Probabilities\n",
    "\n",
    "P_tea=0.40\n",
    "P_coffee=0.50\n",
    "P_tea_and_coffee=0.20\n",
    "\n",
    "#Apply Inclusion_Exclusion Formula\n",
    "P_tea_or_coeffe=P_tea+P_coffee-P_tea_and_coffee\n",
    "print(\"Probility that a person likes at least one of tea or coeffe:\", round(P_tea_or_coeffe,2))"
   ]
  },
  {
   "cell_type": "markdown",
   "id": "226c8168",
   "metadata": {},
   "source": [
    "Q12. A fair coin is flipped three times. What is the probability of getting exactly two heads?"
   ]
  },
  {
   "cell_type": "code",
   "execution_count": null,
   "id": "f8f5a187",
   "metadata": {},
   "outputs": [
    {
     "name": "stdout",
     "output_type": "stream",
     "text": [
      "Probability of getting exactly two heads: 0.38\n"
     ]
    }
   ],
   "source": [
    "#Total outcomes (3 flip, 2 outcomes per flip)\n",
    "total_outcomes=2**3   # 8 outcomes\n",
    "\n",
    "#Favourable Outcomes(exactly two heads)\n",
    "favourable_outcomes=3   #HHT,HTH,THH\n",
    "\n",
    "#Claculate Probability\n",
    "probability_two_heads= favourable_outcomes/total_outcomes\n",
    "\n",
    "print(\"Probability of getting exactly two heads:\", round(probability_two_heads,3))"
   ]
  },
  {
   "cell_type": "markdown",
   "id": "b2247457",
   "metadata": {},
   "source": [
    "Q13. A company has a dataset of customer feedback on a new product. 50% of customers who bought the product provided positive feedback, and 60% of customers who provided positive feedback also made a second purchase. If a customer made a second purchase, what is the probability that they provided positive feedback?"
   ]
  },
  {
   "cell_type": "code",
   "execution_count": 17,
   "id": "416612fc",
   "metadata": {},
   "outputs": [
    {
     "name": "stdout",
     "output_type": "stream",
     "text": [
      "Probability that a customer provided positive feedback given they made a second purchase: 0.6\n"
     ]
    }
   ],
   "source": [
    "#Given Probabilities \n",
    "P_positive_feedback=0.50  #50%  of customers fave positive feedback\n",
    "P_second_purchase_given_positive=0.60 #60% of those who gave positive feedback made a second purchase\n",
    "P_second_purchase_given_negative=0.40 #Assume 40% of those who gave nrgative feedback made a second purchase\n",
    "P_negative_feedback=1-P_positive_feedback  #Remaining customers who gave negative feedback\n",
    "\n",
    "\n",
    "#calculate total probability of second purchase\n",
    "P_second_purchase=(P_second_purchase_given_positive*P_positive_feedback)+(P_second_purchase_given_negative*P_negative_feedback)\n",
    "\n",
    "\n",
    "#Apply Bayes Theorem to find P(Positive Feedback| Second Purchase)\n",
    "\n",
    "P_positive_given_purchase=(P_second_purchase_given_positive*P_positive_feedback)/P_second_purchase\n",
    "\n",
    "#Output the result\n",
    "print(\"Probability that a customer provided positive feedback given they made a second purchase:\", round(P_second_purchase_given_positive,2))"
   ]
  },
  {
   "cell_type": "markdown",
   "id": "299c64ad",
   "metadata": {},
   "source": [
    "Q14. A survey shows that 40% of people prefer vegetarian food, 35% prefer non-vegetarian food, and 20% like both. What is the probability that a randomly selected person likes vegetarian or non-vegetarian food?"
   ]
  },
  {
   "cell_type": "code",
   "execution_count": 18,
   "id": "e3529c1f",
   "metadata": {},
   "outputs": [
    {
     "name": "stdout",
     "output_type": "stream",
     "text": [
      "Probability that a person likes vegetarian or non_vegetarian food: 0.35\n"
     ]
    }
   ],
   "source": [
    "#Given Probabilities\n",
    "P_vegetarian=0.40\n",
    "P_non_vagetarian=0.35\n",
    "P_both=0.20\n",
    "\n",
    "\n",
    "#Apply Inclusion_Exclusion formula\n",
    "P_vegetarian_or_non_vagetarian=P_non_vagetarian\n",
    "+P_vegetarian-P_both\n",
    "\n",
    "print(\"Probability that a person likes vegetarian or non_vegetarian food:\",round(P_vegetarian_or_non_vagetarian,2))"
   ]
  },
  {
   "cell_type": "markdown",
   "id": "a84242ab",
   "metadata": {},
   "source": [
    "Q15. In a dataset of 1000 customers, 300 are repeat buyers, 400 are new buyers, and 200 of the repeat buyers also registered for a loyalty program. What is the probability that a customer is both a repeat buyer and a member of the loyalty program?"
   ]
  },
  {
   "cell_type": "code",
   "execution_count": 19,
   "id": "562d7090",
   "metadata": {},
   "outputs": [
    {
     "name": "stdout",
     "output_type": "stream",
     "text": [
      "Probability that a customer is both a repeat buyer and loyalty program: 0.2\n"
     ]
    }
   ],
   "source": [
    "#Given Values\n",
    "repeat_buyers_and_loyalty_members=200\n",
    "total_customers=1000\n",
    "\n",
    "#Calculate Probability\n",
    "probability_repeat_and_loyalty=repeat_buyers_and_loyalty_members/total_customers\n",
    "\n",
    "print(\"Probability that a customer is both a repeat buyer and loyalty program:\",round(probability_repeat_and_loyalty,2))"
   ]
  },
  {
   "cell_type": "markdown",
   "id": "1350879e",
   "metadata": {},
   "source": [
    "Q16. A healthcare dataset shows that 90% of people who exercise regularly have a lower risk of heart disease, while only 10% of people who don’t exercise regularly have a lower risk. If 60% of people in the dataset exercise regularly, what is the probability that a randomly selected person has a lower risk of heart disease?"
   ]
  },
  {
   "cell_type": "code",
   "execution_count": 20,
   "id": "36413475",
   "metadata": {},
   "outputs": [
    {
     "name": "stdout",
     "output_type": "stream",
     "text": [
      "Probability that a randomly selected pperson has a lower risk of heart disease: 0.58\n"
     ]
    }
   ],
   "source": [
    "#Given Probabilities\n",
    "P_lower_risk_given_exercise=0.90\n",
    "P_lower_risk_given_no_excercise=0.10\n",
    "P_excercise_regularly=0.60\n",
    "P_no_erercise_regularly=1-P_excercise_regularly\n",
    "\n",
    "#apply law of total Probability \n",
    "P_lower_risk=(P_lower_risk_given_exercise*P_excercise_regularly)+(P_lower_risk_given_no_excercise*P_no_erercise_regularly)\n",
    "\n",
    "print(\"Probability that a randomly selected pperson has a lower risk of heart disease:\",round(P_lower_risk,2))"
   ]
  },
  {
   "cell_type": "markdown",
   "id": "35a0bcc8",
   "metadata": {},
   "source": [
    "Q17. In a dataset of 500 students, 150 are enrolled in both Computer Science and Mathematics courses, 250 are enrolled only in Computer Science, and 100 are enrolled only in Mathematics. What is the probability that a randomly selected student is enrolled in either Computer Science or Mathematics?"
   ]
  },
  {
   "cell_type": "code",
   "execution_count": 21,
   "id": "44c59a7b",
   "metadata": {},
   "outputs": [
    {
     "name": "stdout",
     "output_type": "stream",
     "text": [
      "Probability that a randomly selected student is enrolled in either Computer Science or Mathematics: 1.0\n"
     ]
    }
   ],
   "source": [
    "#Given Numbers\n",
    "total_students=500\n",
    "only_CS=250\n",
    "only_Math=100\n",
    "both_CS_and_Math=150\n",
    "\n",
    "#Calculate Probabilities\n",
    "P_CS=(only_CS+both_CS_and_Math)/total_students\n",
    "P_Math=(only_Math+both_CS_and_Math)/total_students\n",
    "P_both=both_CS_and_Math/total_students\n",
    "\n",
    "#Apply Inclusion_Exclusion Formula\n",
    "P_CS_or_Math=P_CS+P_Math-P_both\n",
    "\n",
    "print(\"Probability that a randomly selected student is enrolled in either Computer Science or Mathematics:\", round(P_CS_or_Math,2))\n"
   ]
  },
  {
   "cell_type": "markdown",
   "id": "1b8a5f0e",
   "metadata": {},
   "source": [
    "Q18. A company tracks employee performance, and 30% of employees exceed expectations, while 50% of employees with excellent performance also receive a promotion. What is the probability that an employee receives a promotion, given that they exceed expectations?"
   ]
  },
  {
   "cell_type": "code",
   "execution_count": 22,
   "id": "60ed4d57",
   "metadata": {},
   "outputs": [
    {
     "name": "stdout",
     "output_type": "stream",
     "text": [
      "Probability that an employee receives a promotion, given that they exceed expectations: 0.5\n"
     ]
    }
   ],
   "source": [
    "#Given Probability \n",
    "P_promotion_given_exceeds=0.50\n",
    "\n",
    "#Output the result\n",
    "print(\"Probability that an employee receives a promotion, given that they exceed expectations:\", P_promotion_given_exceeds) "
   ]
  },
  {
   "cell_type": "markdown",
   "id": "38ce0bd0",
   "metadata": {},
   "source": [
    "Q19. A data analysis shows that 25% of people who take an online quiz also complete a survey at the end, and 40% of people who complete the survey also share their results on social media. What is the probability that a person takes the quiz and shares their results on social media?"
   ]
  },
  {
   "cell_type": "code",
   "execution_count": 23,
   "id": "a822b67a",
   "metadata": {},
   "outputs": [
    {
     "name": "stdout",
     "output_type": "stream",
     "text": [
      "Probability that a person takes the quiz and shares their result on socail media: 0.1\n"
     ]
    }
   ],
   "source": [
    "#Given Probabilities\n",
    "P_complete_survey_given_quiz=0.25 #25% of quiz takkers complete the survey\n",
    "P_share_resuls_given_survey= 0.40 #40% of survey completers share results\n",
    "\n",
    "\n",
    "#Calculate the Probability\n",
    "P_quiz_and_share_results=P_complete_survey_given_quiz*P_share_resuls_given_survey\n",
    "print(\"Probability that a person takes the quiz and shares their result on socail media:\",round(P_quiz_and_share_results,2))"
   ]
  },
  {
   "cell_type": "markdown",
   "id": "b3b9f34c",
   "metadata": {},
   "source": [
    "Q20. In a dataset of 500 people, 60% own a smartphone, 40% own a tablet, and 25% own both a smartphone and a tablet. What is the probability that a randomly selected person owns either a smartphone or a tablet?"
   ]
  },
  {
   "cell_type": "code",
   "execution_count": 24,
   "id": "06b5abd8",
   "metadata": {},
   "outputs": [
    {
     "name": "stdout",
     "output_type": "stream",
     "text": [
      "Probability that a person owns either a smartphone or a tablet: 0.75\n"
     ]
    }
   ],
   "source": [
    "#Given Probilities \n",
    "P_smartphone=0.60\n",
    "P_tablet=0.40\n",
    "P_both=0.25\n",
    "\n",
    "#Apply Inclusion_Declusion formula\n",
    "P_smartphone_or_tablet=P_smartphone+P_tablet-P_both\n",
    "print(\"Probability that a person owns either a smartphone or a tablet:\", round(P_smartphone_or_tablet,2))"
   ]
  },
  {
   "cell_type": "markdown",
   "id": "34b53da4",
   "metadata": {},
   "source": [
    "Q21. A marketing team analyzes the behavior of customers who engage with a new promotional offer. 70% of customers who receive the offer visit the website, and 50% of those who visit the website make a purchase. What is the probability that a customer both visits the website and makes a purchase?"
   ]
  },
  {
   "cell_type": "code",
   "execution_count": 27,
   "id": "fe09d684",
   "metadata": {},
   "outputs": [
    {
     "name": "stdout",
     "output_type": "stream",
     "text": [
      "Probability that a customer both visits the website and makes a purchase: 0.35\n"
     ]
    }
   ],
   "source": [
    "#Given Probabilities\n",
    "P_visit=0.70\n",
    "P_purchase_given_visit=0.50\n",
    "\n",
    "#Calculate the probability that a customer both visits and makes a purchase\n",
    "P_visit_and_purchase=P_visit*P_purchase_given_visit\n",
    "print(\"Probability that a customer both visits the website and makes a purchase:\", round(P_visit_and_purchase,2))"
   ]
  },
  {
   "cell_type": "markdown",
   "id": "ce8d5b2a",
   "metadata": {},
   "source": [
    "Q22. In a dataset of 1000 employees, 700 are satisfied with their job, and 500 of those employees are also highly productive. What is the probability that an employee is both satisfied with their job and highly productive?"
   ]
  },
  {
   "cell_type": "code",
   "execution_count": 28,
   "id": "467e00e4",
   "metadata": {},
   "outputs": [
    {
     "name": "stdout",
     "output_type": "stream",
     "text": [
      "Productivity that an employee is both satisfied with their job and highly productive 0.5\n"
     ]
    }
   ],
   "source": [
    "#Given Data\n",
    "total_employees=1000\n",
    "satisfied_and_productive=500\n",
    "\n",
    "#Calculate the probability\n",
    "\n",
    "P_satisfied_and_productive=satisfied_and_productive/total_employees\n",
    "print(\"Productivity that an employee is both satisfied with their job and highly productive\",round(P_satisfied_and_productive,2))"
   ]
  },
  {
   "cell_type": "markdown",
   "id": "aefd3fac",
   "metadata": {},
   "source": [
    "Q23. A survey of 800 customers shows that 50% prefer product A, 30% prefer product B, and 20% prefer both. What is the probability that a customer prefers either product A or product B?"
   ]
  },
  {
   "cell_type": "code",
   "execution_count": 29,
   "id": "63cc4b52",
   "metadata": {},
   "outputs": [
    {
     "name": "stdout",
     "output_type": "stream",
     "text": [
      "Probability a customer prefers either product A or B: 0.6\n"
     ]
    }
   ],
   "source": [
    "#Given Probabilities\n",
    "P_A=0.50\n",
    "P_B=0.30\n",
    "P_A_and_B=0.20\n",
    "\n",
    "#Inclusion_Exclusion Principle\n",
    "\n",
    "P_A_or_B=P_A+P_B-P_A_and_B\n",
    "print(\"Probability a customer prefers either product A or B:\", round(P_A_or_B,2))"
   ]
  },
  {
   "cell_type": "markdown",
   "id": "2e5a2673",
   "metadata": {},
   "source": [
    "Q24. A dataset of students shows that 40% of students excel in Math, 30% excel in Science, and 15% excel in both subjects. What is the probability that a randomly selected student excels in at least one of the subjects?"
   ]
  },
  {
   "cell_type": "code",
   "execution_count": 30,
   "id": "d3e17293",
   "metadata": {},
   "outputs": [
    {
     "name": "stdout",
     "output_type": "stream",
     "text": [
      "Probability that a student excels in at least one subject: 0.55\n"
     ]
    }
   ],
   "source": [
    "# Given probabilities\n",
    "P_math = 0.40\n",
    "P_science = 0.30\n",
    "P_both = 0.15\n",
    "\n",
    "# Apply inclusion-exclusion principle\n",
    "P_math_or_science = P_math + P_science - P_both\n",
    "print(\"Probability that a student excels in at least one subject:\", round(P_math_or_science, 2))"
   ]
  }
 ],
 "metadata": {
  "kernelspec": {
   "display_name": "Python 3",
   "language": "python",
   "name": "python3"
  },
  "language_info": {
   "codemirror_mode": {
    "name": "ipython",
    "version": 3
   },
   "file_extension": ".py",
   "mimetype": "text/x-python",
   "name": "python",
   "nbconvert_exporter": "python",
   "pygments_lexer": "ipython3",
   "version": "3.13.2"
  }
 },
 "nbformat": 4,
 "nbformat_minor": 5
}
